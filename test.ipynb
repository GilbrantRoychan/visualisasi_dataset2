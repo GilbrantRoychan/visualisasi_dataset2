{
 "cells": [
  {
   "cell_type": "markdown",
   "id": "08be0ab7-6b7a-453b-9395-795734994594",
   "metadata": {},
   "source": [
    "## import some module"
   ]
  },
  {
   "cell_type": "code",
   "execution_count": 1,
   "id": "72861041-c9ff-431a-8cd5-6f851ca9101b",
   "metadata": {},
   "outputs": [],
   "source": [
    "import numpy as np\n",
    "import pandas as pd\n",
    "import matplotlib.pyplot as plt\n",
    "import seaborn as sns"
   ]
  },
  {
   "cell_type": "markdown",
   "id": "32ffc229-3dd6-4fc3-9dd5-fb8517d88c52",
   "metadata": {},
   "source": [
    "## load dataset"
   ]
  },
  {
   "cell_type": "code",
   "execution_count": 2,
   "id": "53dcc147-f535-449d-b762-37f2f5de5b49",
   "metadata": {},
   "outputs": [
    {
     "data": {
      "text/html": [
       "<div>\n",
       "<style scoped>\n",
       "    .dataframe tbody tr th:only-of-type {\n",
       "        vertical-align: middle;\n",
       "    }\n",
       "\n",
       "    .dataframe tbody tr th {\n",
       "        vertical-align: top;\n",
       "    }\n",
       "\n",
       "    .dataframe thead th {\n",
       "        text-align: right;\n",
       "    }\n",
       "</style>\n",
       "<table border=\"1\" class=\"dataframe\">\n",
       "  <thead>\n",
       "    <tr style=\"text-align: right;\">\n",
       "      <th></th>\n",
       "      <th>Tanggal</th>\n",
       "      <th>Kategori</th>\n",
       "      <th>Produk</th>\n",
       "      <th>Jumlah Terjual</th>\n",
       "      <th>Harga Satuan (IDR)</th>\n",
       "      <th>Pendapatan (IDR)</th>\n",
       "    </tr>\n",
       "  </thead>\n",
       "  <tbody>\n",
       "    <tr>\n",
       "      <th>0</th>\n",
       "      <td>2025-01-01</td>\n",
       "      <td>Elektronik</td>\n",
       "      <td>Smartphone</td>\n",
       "      <td>10</td>\n",
       "      <td>2500000</td>\n",
       "      <td>25000000</td>\n",
       "    </tr>\n",
       "    <tr>\n",
       "      <th>1</th>\n",
       "      <td>2025-01-01</td>\n",
       "      <td>Elektronik</td>\n",
       "      <td>Laptop</td>\n",
       "      <td>5</td>\n",
       "      <td>7500000</td>\n",
       "      <td>37500000</td>\n",
       "    </tr>\n",
       "    <tr>\n",
       "      <th>2</th>\n",
       "      <td>2025-01-01</td>\n",
       "      <td>Rumah Tangga</td>\n",
       "      <td>Blender</td>\n",
       "      <td>8</td>\n",
       "      <td>800000</td>\n",
       "      <td>6400000</td>\n",
       "    </tr>\n",
       "    <tr>\n",
       "      <th>3</th>\n",
       "      <td>2025-01-02</td>\n",
       "      <td>Elektronik</td>\n",
       "      <td>Smartphone</td>\n",
       "      <td>12</td>\n",
       "      <td>2500000</td>\n",
       "      <td>30000000</td>\n",
       "    </tr>\n",
       "    <tr>\n",
       "      <th>4</th>\n",
       "      <td>2025-01-02</td>\n",
       "      <td>Rumah Tangga</td>\n",
       "      <td>Blender</td>\n",
       "      <td>6</td>\n",
       "      <td>800000</td>\n",
       "      <td>4800000</td>\n",
       "    </tr>\n",
       "    <tr>\n",
       "      <th>5</th>\n",
       "      <td>2025-01-02</td>\n",
       "      <td>Rumah Tangga</td>\n",
       "      <td>Mesin Cuci</td>\n",
       "      <td>4</td>\n",
       "      <td>3500000</td>\n",
       "      <td>14000000</td>\n",
       "    </tr>\n",
       "    <tr>\n",
       "      <th>6</th>\n",
       "      <td>2025-01-03</td>\n",
       "      <td>Elektronik</td>\n",
       "      <td>Laptop</td>\n",
       "      <td>6</td>\n",
       "      <td>7500000</td>\n",
       "      <td>45000000</td>\n",
       "    </tr>\n",
       "    <tr>\n",
       "      <th>7</th>\n",
       "      <td>2025-01-03</td>\n",
       "      <td>Rumah Tangga</td>\n",
       "      <td>Mesin Cuci</td>\n",
       "      <td>5</td>\n",
       "      <td>3500000</td>\n",
       "      <td>17500000</td>\n",
       "    </tr>\n",
       "  </tbody>\n",
       "</table>\n",
       "</div>"
      ],
      "text/plain": [
       "      Tanggal      Kategori      Produk  Jumlah Terjual  Harga Satuan (IDR)  \\\n",
       "0  2025-01-01    Elektronik  Smartphone              10             2500000   \n",
       "1  2025-01-01    Elektronik      Laptop               5             7500000   \n",
       "2  2025-01-01  Rumah Tangga     Blender               8              800000   \n",
       "3  2025-01-02    Elektronik  Smartphone              12             2500000   \n",
       "4  2025-01-02  Rumah Tangga     Blender               6              800000   \n",
       "5  2025-01-02  Rumah Tangga  Mesin Cuci               4             3500000   \n",
       "6  2025-01-03    Elektronik      Laptop               6             7500000   \n",
       "7  2025-01-03  Rumah Tangga  Mesin Cuci               5             3500000   \n",
       "\n",
       "   Pendapatan (IDR)  \n",
       "0          25000000  \n",
       "1          37500000  \n",
       "2           6400000  \n",
       "3          30000000  \n",
       "4           4800000  \n",
       "5          14000000  \n",
       "6          45000000  \n",
       "7          17500000  "
      ]
     },
     "execution_count": 2,
     "metadata": {},
     "output_type": "execute_result"
    }
   ],
   "source": [
    "df = pd.read_csv(\"Penjualan_Toko.csv\")\n",
    "df"
   ]
  },
  {
   "cell_type": "code",
   "execution_count": 3,
   "id": "620d3610-a7b5-44ba-81b4-edca8a2bf8ec",
   "metadata": {},
   "outputs": [
    {
     "name": "stdout",
     "output_type": "stream",
     "text": [
      "<class 'pandas.core.frame.DataFrame'>\n",
      "RangeIndex: 8 entries, 0 to 7\n",
      "Data columns (total 6 columns):\n",
      " #   Column              Non-Null Count  Dtype \n",
      "---  ------              --------------  ----- \n",
      " 0   Tanggal             8 non-null      object\n",
      " 1   Kategori            8 non-null      object\n",
      " 2   Produk              8 non-null      object\n",
      " 3   Jumlah Terjual      8 non-null      int64 \n",
      " 4   Harga Satuan (IDR)  8 non-null      int64 \n",
      " 5   Pendapatan (IDR)    8 non-null      int64 \n",
      "dtypes: int64(3), object(3)\n",
      "memory usage: 512.0+ bytes\n"
     ]
    }
   ],
   "source": [
    "df.info()"
   ]
  },
  {
   "cell_type": "markdown",
   "id": "2ea40578-d962-4bb0-9fad-52788b74fe37",
   "metadata": {},
   "source": [
    "## memmperbaiki format data yang kurang tepat"
   ]
  },
  {
   "cell_type": "code",
   "execution_count": 4,
   "id": "c047d727-2dfe-42e4-84eb-869adcd8eda4",
   "metadata": {},
   "outputs": [],
   "source": [
    "df[\"Tanggal\"] = pd.to_datetime(df[\"Tanggal\"])"
   ]
  },
  {
   "cell_type": "code",
   "execution_count": 5,
   "id": "aff1827d-0e20-4c51-8c6d-3dccdab12e5c",
   "metadata": {},
   "outputs": [
    {
     "data": {
      "text/html": [
       "<div>\n",
       "<style scoped>\n",
       "    .dataframe tbody tr th:only-of-type {\n",
       "        vertical-align: middle;\n",
       "    }\n",
       "\n",
       "    .dataframe tbody tr th {\n",
       "        vertical-align: top;\n",
       "    }\n",
       "\n",
       "    .dataframe thead th {\n",
       "        text-align: right;\n",
       "    }\n",
       "</style>\n",
       "<table border=\"1\" class=\"dataframe\">\n",
       "  <thead>\n",
       "    <tr style=\"text-align: right;\">\n",
       "      <th></th>\n",
       "      <th>Tanggal</th>\n",
       "      <th>Kategori</th>\n",
       "      <th>Produk</th>\n",
       "      <th>Jumlah Terjual</th>\n",
       "      <th>Harga Satuan (IDR)</th>\n",
       "      <th>Pendapatan (IDR)</th>\n",
       "    </tr>\n",
       "  </thead>\n",
       "  <tbody>\n",
       "    <tr>\n",
       "      <th>0</th>\n",
       "      <td>2025-01-01</td>\n",
       "      <td>Elektronik</td>\n",
       "      <td>Smartphone</td>\n",
       "      <td>10</td>\n",
       "      <td>2500000</td>\n",
       "      <td>25000000</td>\n",
       "    </tr>\n",
       "    <tr>\n",
       "      <th>1</th>\n",
       "      <td>2025-01-01</td>\n",
       "      <td>Elektronik</td>\n",
       "      <td>Laptop</td>\n",
       "      <td>5</td>\n",
       "      <td>7500000</td>\n",
       "      <td>37500000</td>\n",
       "    </tr>\n",
       "    <tr>\n",
       "      <th>2</th>\n",
       "      <td>2025-01-01</td>\n",
       "      <td>Rumah Tangga</td>\n",
       "      <td>Blender</td>\n",
       "      <td>8</td>\n",
       "      <td>800000</td>\n",
       "      <td>6400000</td>\n",
       "    </tr>\n",
       "    <tr>\n",
       "      <th>3</th>\n",
       "      <td>2025-01-02</td>\n",
       "      <td>Elektronik</td>\n",
       "      <td>Smartphone</td>\n",
       "      <td>12</td>\n",
       "      <td>2500000</td>\n",
       "      <td>30000000</td>\n",
       "    </tr>\n",
       "    <tr>\n",
       "      <th>4</th>\n",
       "      <td>2025-01-02</td>\n",
       "      <td>Rumah Tangga</td>\n",
       "      <td>Blender</td>\n",
       "      <td>6</td>\n",
       "      <td>800000</td>\n",
       "      <td>4800000</td>\n",
       "    </tr>\n",
       "    <tr>\n",
       "      <th>5</th>\n",
       "      <td>2025-01-02</td>\n",
       "      <td>Rumah Tangga</td>\n",
       "      <td>Mesin Cuci</td>\n",
       "      <td>4</td>\n",
       "      <td>3500000</td>\n",
       "      <td>14000000</td>\n",
       "    </tr>\n",
       "    <tr>\n",
       "      <th>6</th>\n",
       "      <td>2025-01-03</td>\n",
       "      <td>Elektronik</td>\n",
       "      <td>Laptop</td>\n",
       "      <td>6</td>\n",
       "      <td>7500000</td>\n",
       "      <td>45000000</td>\n",
       "    </tr>\n",
       "    <tr>\n",
       "      <th>7</th>\n",
       "      <td>2025-01-03</td>\n",
       "      <td>Rumah Tangga</td>\n",
       "      <td>Mesin Cuci</td>\n",
       "      <td>5</td>\n",
       "      <td>3500000</td>\n",
       "      <td>17500000</td>\n",
       "    </tr>\n",
       "  </tbody>\n",
       "</table>\n",
       "</div>"
      ],
      "text/plain": [
       "     Tanggal      Kategori      Produk  Jumlah Terjual  Harga Satuan (IDR)  \\\n",
       "0 2025-01-01    Elektronik  Smartphone              10             2500000   \n",
       "1 2025-01-01    Elektronik      Laptop               5             7500000   \n",
       "2 2025-01-01  Rumah Tangga     Blender               8              800000   \n",
       "3 2025-01-02    Elektronik  Smartphone              12             2500000   \n",
       "4 2025-01-02  Rumah Tangga     Blender               6              800000   \n",
       "5 2025-01-02  Rumah Tangga  Mesin Cuci               4             3500000   \n",
       "6 2025-01-03    Elektronik      Laptop               6             7500000   \n",
       "7 2025-01-03  Rumah Tangga  Mesin Cuci               5             3500000   \n",
       "\n",
       "   Pendapatan (IDR)  \n",
       "0          25000000  \n",
       "1          37500000  \n",
       "2           6400000  \n",
       "3          30000000  \n",
       "4           4800000  \n",
       "5          14000000  \n",
       "6          45000000  \n",
       "7          17500000  "
      ]
     },
     "execution_count": 5,
     "metadata": {},
     "output_type": "execute_result"
    }
   ],
   "source": [
    "df"
   ]
  },
  {
   "cell_type": "markdown",
   "id": "0934770c-0f01-48b8-b62b-dc49b1a6e697",
   "metadata": {},
   "source": [
    "# soal "
   ]
  },
  {
   "cell_type": "markdown",
   "id": "69a1ad8d-228e-49a5-aae6-8896878af014",
   "metadata": {},
   "source": [
    "## 1. Tampilkan total pendapatan untuk masing-masing kategori produk."
   ]
  },
  {
   "cell_type": "code",
   "execution_count": 6,
   "id": "cadbba76-97f0-4ee0-8be0-2b82146e2096",
   "metadata": {},
   "outputs": [],
   "source": [
    "total_amount_each_product = df.groupby([\"Produk\"])[\"Pendapatan (IDR)\"].sum().reset_index()"
   ]
  },
  {
   "cell_type": "code",
   "execution_count": 7,
   "id": "f92ffb1c-4eeb-4bec-bd0f-1af6806332bd",
   "metadata": {},
   "outputs": [
    {
     "data": {
      "image/png": "[encoded data removed]",
      "text/plain": [
       "<Figure size 640x480 with 1 Axes>"
      ]
     },
     "metadata": {},
     "output_type": "display_data"
    }
   ],
   "source": [
    "test = plt.bar(total_amount_each_product[\"Produk\"], total_amount_each_product[\"Pendapatan (IDR)\"], width=0.8, color=\"skyblue\")\n",
    "plt.ylabel(\"Jumlah pendapatan\")\n",
    "plt.xlabel(\"categories\")\n",
    "plt.title(\"Total Pendapatan tiap Product\")\n",
    "\n",
    "plt.grid()\n",
    "plt.bar_label(test,fmt=\"Rp%.0f\", label_type=\"center\")\n",
    "plt.show()\n"
   ]
  },
  {
   "cell_type": "markdown",
   "id": "545293d9-8b00-459c-88e9-97cf54455866",
   "metadata": {},
   "source": [
    "## 2. Tampilkan tren total pendapatan harian."
   ]
  },
  {
   "cell_type": "code",
   "execution_count": 8,
   "id": "a7fae71b-dda1-4cbf-8c63-09b2e8fad97a",
   "metadata": {},
   "outputs": [
    {
     "data": {
      "text/html": [
       "<div>\n",
       "<style scoped>\n",
       "    .dataframe tbody tr th:only-of-type {\n",
       "        vertical-align: middle;\n",
       "    }\n",
       "\n",
       "    .dataframe tbody tr th {\n",
       "        vertical-align: top;\n",
       "    }\n",
       "\n",
       "    .dataframe thead th {\n",
       "        text-align: right;\n",
       "    }\n",
       "</style>\n",
       "<table border=\"1\" class=\"dataframe\">\n",
       "  <thead>\n",
       "    <tr style=\"text-align: right;\">\n",
       "      <th></th>\n",
       "      <th>Tanggal</th>\n",
       "      <th>Pendapatan (IDR)</th>\n",
       "    </tr>\n",
       "  </thead>\n",
       "  <tbody>\n",
       "    <tr>\n",
       "      <th>0</th>\n",
       "      <td>2025-01-01</td>\n",
       "      <td>68900000</td>\n",
       "    </tr>\n",
       "    <tr>\n",
       "      <th>1</th>\n",
       "      <td>2025-01-02</td>\n",
       "      <td>48800000</td>\n",
       "    </tr>\n",
       "    <tr>\n",
       "      <th>2</th>\n",
       "      <td>2025-01-03</td>\n",
       "      <td>62500000</td>\n",
       "    </tr>\n",
       "  </tbody>\n",
       "</table>\n",
       "</div>"
      ],
      "text/plain": [
       "     Tanggal  Pendapatan (IDR)\n",
       "0 2025-01-01          68900000\n",
       "1 2025-01-02          48800000\n",
       "2 2025-01-03          62500000"
      ]
     },
     "execution_count": 8,
     "metadata": {},
     "output_type": "execute_result"
    }
   ],
   "source": [
    "result = df.groupby([\"Tanggal\"])[\"Pendapatan (IDR)\"].sum().reset_index()\n",
    "\n",
    "result"
   ]
  },
  {
   "cell_type": "code",
   "execution_count": 9,
   "id": "919b8b4b-b0d1-4462-ba30-36cd1b8b5138",
   "metadata": {},
   "outputs": [
    {
     "data": {
      "image/png": "[encoded data removed]",
      "text/plain": [
       "<Figure size 640x480 with 1 Axes>"
      ]
     },
     "metadata": {},
     "output_type": "display_data"
    }
   ],
   "source": [
    "result.plot(kind=\"line\", x=\"Tanggal\", y=\"Pendapatan (IDR)\", marker=\"o\")\n",
    "\n",
    "plt.show()"
   ]
  },
  {
   "cell_type": "markdown",
   "id": "24a68e14-20ca-427c-a587-a9bad663e2cb",
   "metadata": {},
   "source": [
    "## 3. Tampilkan jumlah terjual untuk setiap produk."
   ]
  },
  {
   "cell_type": "code",
   "execution_count": 10,
   "id": "094aaee4-3334-4071-af84-aac4a7856744",
   "metadata": {},
   "outputs": [
    {
     "data": {
      "text/html": [
       "<div>\n",
       "<style scoped>\n",
       "    .dataframe tbody tr th:only-of-type {\n",
       "        vertical-align: middle;\n",
       "    }\n",
       "\n",
       "    .dataframe tbody tr th {\n",
       "        vertical-align: top;\n",
       "    }\n",
       "\n",
       "    .dataframe thead th {\n",
       "        text-align: right;\n",
       "    }\n",
       "</style>\n",
       "<table border=\"1\" class=\"dataframe\">\n",
       "  <thead>\n",
       "    <tr style=\"text-align: right;\">\n",
       "      <th></th>\n",
       "      <th>Produk</th>\n",
       "      <th>Jumlah Terjual</th>\n",
       "    </tr>\n",
       "  </thead>\n",
       "  <tbody>\n",
       "    <tr>\n",
       "      <th>0</th>\n",
       "      <td>Blender</td>\n",
       "      <td>14</td>\n",
       "    </tr>\n",
       "    <tr>\n",
       "      <th>1</th>\n",
       "      <td>Laptop</td>\n",
       "      <td>11</td>\n",
       "    </tr>\n",
       "    <tr>\n",
       "      <th>2</th>\n",
       "      <td>Mesin Cuci</td>\n",
       "      <td>9</td>\n",
       "    </tr>\n",
       "    <tr>\n",
       "      <th>3</th>\n",
       "      <td>Smartphone</td>\n",
       "      <td>22</td>\n",
       "    </tr>\n",
       "  </tbody>\n",
       "</table>\n",
       "</div>"
      ],
      "text/plain": [
       "       Produk  Jumlah Terjual\n",
       "0     Blender              14\n",
       "1      Laptop              11\n",
       "2  Mesin Cuci               9\n",
       "3  Smartphone              22"
      ]
     },
     "execution_count": 10,
     "metadata": {},
     "output_type": "execute_result"
    }
   ],
   "source": [
    "result = df.groupby([\"Produk\"])[\"Jumlah Terjual\"].sum().reset_index()\n",
    "result"
   ]
  },
  {
   "cell_type": "code",
   "execution_count": 12,
   "id": "dec8e576-4d46-4ee9-89c0-61258b1a194c",
   "metadata": {},
   "outputs": [
    {
     "data": {
      "image/png": "[encoded data removed]",
      "text/plain": [
       "<Figure size 1500x400 with 2 Axes>"
      ]
     },
     "metadata": {},
     "output_type": "display_data"
    }
   ],
   "source": [
    "fig,ax = plt.subplots(1,2, figsize=(15,4))\n",
    "fig.suptitle(\"Jumlah barang terjual by Product\")\n",
    "bar_colors = ['tab:blue', 'tab:orange', 'tab:green','tab:red']\n",
    "bar= ax[0].bar(x=result[\"Produk\"], height=result[\"Jumlah Terjual\"], color=bar_colors)\n",
    "plt.grid()\n",
    "plt.bar_label(bar, label_type=\"center\")\n",
    "\n",
    "\n",
    "pie = ax[1].pie(x=result[\"Jumlah Terjual\"], labels= result[\"Produk\"], autopct=\"%1.1f%%\")\n",
    "\n",
    "\n",
    "\n",
    "plt.show()"
   ]
  },
  {
   "cell_type": "code",
   "execution_count": null,
   "id": "1ee301ee-6473-464f-b0c7-c645d505346e",
   "metadata": {},
   "outputs": [],
   "source": []
  }
 ],
 "metadata": {
  "kernelspec": {
   "display_name": "myenv",
   "language": "python",
   "name": "python3"
  },
  "language_info": {
   "codemirror_mode": {
    "name": "ipython",
    "version": 3
   },
   "file_extension": ".py",
   "mimetype": "text/x-python",
   "name": "python",
   "nbconvert_exporter": "python",
   "pygments_lexer": "ipython3",
   "version": "3.10.4"
  }
 },
 "nbformat": 4,
 "nbformat_minor": 5
}
